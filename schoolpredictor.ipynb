{
 "cells": [
  {
   "cell_type": "code",
   "execution_count": null,
   "metadata": {
    "collapsed": true
   },
   "outputs": [],
   "source": [
    "#Pick one school or come up with your own\n",
    "\n",
    "#schoolname = 'Deer Valley High School'      # in the Deer Valley Unified District\n",
    "#schoolname = 'Barry Goldwater High School'  # also in the Deer Valley Unified District\n",
    "schoolname = 'Adobe Mountain School'  # Operated by the Arizona Department of Corrections\n",
    "#schoolname = 'New River Elementary'      # in the Deer Valley Unified District\n",
    "\n",
    "#INPUT YOUR NEW STATE\n",
    "newState = 'WASHINGTON'  # needs to be capitalized\n",
    "\n"
   ]
  },
  {
   "cell_type": "code",
   "execution_count": null,
   "metadata": {
    "collapsed": true
   },
   "outputs": [],
   "source": [
    "import numpy as np\n",
    "from numpy import random\n",
    "\n",
    "import matplotlib \n",
    "import matplotlib.pyplot as plt\n",
    "\n",
    "import pandas as pd\n",
    "from pandas import Series, DataFrame\n",
    "\n",
    "import sys \n",
    "\n",
    "from sklearn.cluster import KMeans\n",
    "from sklearn import preprocessing\n",
    "from sklearn.decomposition import PCA\n",
    "\n",
    "# Enable inline plotting\n",
    "%matplotlib inline\n",
    "\n",
    "import re\n",
    "\n",
    "import itertools\n",
    "\n",
    "import urllib"
   ]
  },
  {
   "cell_type": "code",
   "execution_count": null,
   "metadata": {
    "collapsed": false
   },
   "outputs": [],
   "source": [
    "print 'Downloading data to file: ed.csv...  File size = 47.1MB   (this normally takes a few minutes)'\n",
    "print 'Data Info at http://www2.ed.gov/about/inits/ed/edfacts/data-files/index.html'\n",
    "print 'Data file = http://www2.ed.gov/about/inits/ed/edfacts/data-files/math-achievement-sch-sy2014-15.csv'\n",
    "urllib.urlretrieve ('http://www2.ed.gov/about/inits/ed/edfacts/data-files/math-achievement-sch-sy2014-15.csv', 'ed.csv')\n",
    "print 'Download complete!'\n"
   ]
  },
  {
   "cell_type": "code",
   "execution_count": null,
   "metadata": {
    "collapsed": true
   },
   "outputs": [],
   "source": [
    "#Importing and cleaning data files\n",
    "#function used to format data file\n",
    "def convertpercentprof(percentprof):\n",
    "    if '-' in percentprof:\n",
    "        match = re.search(r'(\\w+)\\-(\\w+)', percentprof)\n",
    "        if match: \n",
    "            percentprof = (float(match.group(1))\n",
    "                           +float(match.group(2)))/2.0\n",
    "            return percentprof\n",
    "    if 'GE' in percentprof:\n",
    "        match = re.search(r'GE(\\w+)', percentprof)\n",
    "        if match:\n",
    "            percentprof = ((100.0-float(match.group(1)))/2.0)\n",
    "            return percentprof\n",
    "    if 'GT' in percentprof:\n",
    "        match = re.search(r'GT(\\w+)', percentprof)\n",
    "        if match:\n",
    "            percentprof = ((100.0-float(match.group(1)))/2.0)\n",
    "            return percentprof\n",
    "    if 'LE' in percentprof:\n",
    "        match = re.search(r'LE(\\w+)', percentprof)\n",
    "        if match:\n",
    "            percentprof = ((float(match.group(1))-0.0)/2.0)\n",
    "            return percentprof\n",
    "    if 'LT' in percentprof:\n",
    "        match = re.search(r'LT(\\w+)', percentprof)\n",
    "        if match:\n",
    "            percentprof = ((float(match.group(1))-0.0)/2.0)\n",
    "            return percentprof\n",
    "    if 'PS' in percentprof:\n",
    "        percentprof = np.nan\n",
    "        return percentprof\n",
    "    if 'n/a' in percentprof:\n",
    "        percentprof = np.nan\n",
    "        return percentprof\n",
    "    if '.' == percentprof:\n",
    "        percentprof = np.nan\n",
    "        return percentprof\n",
    "    return percentprof"
   ]
  },
  {
   "cell_type": "code",
   "execution_count": null,
   "metadata": {
    "collapsed": true
   },
   "outputs": [],
   "source": [
    "#build dictionary that contains columns to be converted, columns 8-232\n",
    "convertdict = {}\n",
    "for i in range(8, 232,2):\n",
    "    convertdict[i]=convertpercentprof\n",
    "#print convertdict"
   ]
  },
  {
   "cell_type": "code",
   "execution_count": null,
   "metadata": {
    "collapsed": true
   },
   "outputs": [],
   "source": [
    "#reading in data file\n",
    "print \"Reading in data file  (this normally takes a few minutes)\"\n",
    "na_valuesList = ['PS', '.', 'n/a']    \n",
    "df_math = pd.read_csv('ed.csv', \n",
    "                      sep=',', \n",
    "                      na_values = na_valuesList, na_filter = True,\n",
    "                      converters = convertdict,\n",
    "                      skipinitialspace = True,\n",
    "                      low_memory=False)\n"
   ]
  },
  {
   "cell_type": "code",
   "execution_count": null,
   "metadata": {
    "collapsed": true
   },
   "outputs": [],
   "source": [
    "# convert types to numeric\n",
    "for i in range(8,232,2):\n",
    "    df_math.ix[:,i] = pd.to_numeric(df_math.ix[:,i], errors='raise')\n",
    "#df_math.columns\n",
    "#df_math"
   ]
  },
  {
   "cell_type": "code",
   "execution_count": null,
   "metadata": {
    "collapsed": true
   },
   "outputs": [],
   "source": [
    "#normalize and clean data\n",
    "\n",
    "df_math_clean = df_math.copy()\n",
    "del df_math_clean['FIPST']\n",
    "del df_math_clean['LEAID']\n",
    "del df_math_clean['NCESSCH']\n",
    "del df_math_clean['STNAM']\n",
    "del df_math_clean['LEANM']\n",
    "del df_math_clean['SCHNAM']\n",
    "del df_math_clean['DATE_CUR']\n",
    "\n",
    "df_math_np = df_math_clean.values #returns a numpy array\n",
    "df_math_np = np.nan_to_num(df_math_np)\n",
    "\n",
    "min_max_scaler = preprocessing.MinMaxScaler()\n",
    "df_math_np_scaled = min_max_scaler.fit_transform(df_math_np)\n",
    "df_math_scaled = pd.DataFrame(df_math_np_scaled)\n"
   ]
  },
  {
   "cell_type": "code",
   "execution_count": null,
   "metadata": {
    "collapsed": false
   },
   "outputs": [],
   "source": [
    "print 'Building the model...  (this normally takes a few minutes)'\n",
    "\n",
    "kmeans_model = KMeans(n_clusters=15, random_state=1)\n",
    "\n",
    "# fit the model using the good, scaled columns\n",
    "kmeans_model.fit(df_math_scaled)\n",
    "labels = kmeans_model.labels_\n",
    "centers = kmeans_model.cluster_centers_\n",
    "inertia = kmeans_model.inertia_\n",
    "\n",
    "# create PCA model\n",
    "pca_2 = PCA(2)\n",
    "# fit the PCA model on the numeric columns\n",
    "plot_columns = pca_2.fit_transform(df_math_scaled)\n",
    "# make a scatter plot of each school, colored according to Class\n",
    "plt.scatter(x=plot_columns[:,0], y=plot_columns[:,1], c=labels)\n",
    "plt.show()\n"
   ]
  },
  {
   "cell_type": "code",
   "execution_count": null,
   "metadata": {
    "collapsed": false
   },
   "outputs": [],
   "source": [
    "# put cluster class on main df\n",
    "df_math_withClass = df_math.copy()\n",
    "df_math_withClass['Class'] = pd.Series(labels,index=df_math_withClass.index)\n",
    "#df_math_withClass   # uncomment this to view dataframe\n",
    "# count number of items in each group\n",
    "#df_math_withClass.groupby('Class').count()\n",
    "# show stats for group by column\n",
    "#df_math_withClass.groupby('Class').describe()"
   ]
  },
  {
   "cell_type": "code",
   "execution_count": null,
   "metadata": {
    "collapsed": false
   },
   "outputs": [],
   "source": [
    "x = df_math_withClass.loc[df_math_withClass['SCHNAM']==schoolname]\n",
    "if len(x)>1:\n",
    "    print 'More than one', schoolname, 'exists in the U.S.'\n",
    "    for i in range(len(x)):\n",
    "        print x.LEANM.values[i]\n",
    "#print \"Using school: \", schoolname,' from: ', x.LEANM.values[0]\n",
    "y = x.Class.values[0]\n",
    "print 'The following schools in the state of: ', newState, 'are similar to: ', schoolname, 'in school district:', x.LEANM.values[0]\n",
    "newSchools = df_math_withClass.loc[df_math_withClass['Class']==y].loc[df_math_withClass['STNAM']==newState]\n",
    "print newSchools['SCHNAM'].head(50)"
   ]
  },
  {
   "cell_type": "code",
   "execution_count": null,
   "metadata": {
    "collapsed": true
   },
   "outputs": [],
   "source": []
  }
 ],
 "metadata": {
  "kernelspec": {
   "display_name": "Python 2",
   "language": "python",
   "name": "python2"
  },
  "language_info": {
   "codemirror_mode": {
    "name": "ipython",
    "version": 2
   },
   "file_extension": ".py",
   "mimetype": "text/x-python",
   "name": "python",
   "nbconvert_exporter": "python",
   "pygments_lexer": "ipython2",
   "version": "2.7.11"
  }
 },
 "nbformat": 4,
 "nbformat_minor": 0
}
